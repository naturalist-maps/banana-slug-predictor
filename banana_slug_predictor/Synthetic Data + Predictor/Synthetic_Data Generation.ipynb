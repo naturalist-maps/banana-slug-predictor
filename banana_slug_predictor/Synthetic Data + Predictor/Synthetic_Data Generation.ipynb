{
 "cells": [
  {
   "cell_type": "code",
   "execution_count": 1,
   "id": "d63d8b9d-64f4-468f-9367-cf2e12e77d27",
   "metadata": {},
   "outputs": [],
   "source": [
    "import numpy as np\n",
    "import pandas as pd\n",
    "\n",
    "# Define parameters for synthetic data generation\n",
    "n_presence = 300      # Number of presence points\n",
    "n_background = 3000   # Number of background points"
   ]
  },
  {
   "cell_type": "code",
   "execution_count": 2,
   "id": "e777f16a-071c-4285-a90b-cb8a88d3c2b8",
   "metadata": {},
   "outputs": [],
   "source": [
    "# Create environmental variables (similar to banana slug preferences)\n",
    "env_vars = [\n",
    "    'temperature',       # Mean temperature (°C)\n",
    "    'precipitation',     # Annual precipitation (mm)\n",
    "    'elevation',         # Elevation (m)\n",
    "    'forest_cover',      # Forest cover (0-100%)\n",
    "    'humidity'           # Relative humidity (%)\n",
    "]"
   ]
  },
  {
   "cell_type": "code",
   "execution_count": 3,
   "id": "f96ca7b9-b3fb-47ec-8f31-5c3b4501da77",
   "metadata": {},
   "outputs": [],
   "source": [
    "# Generate synthetic environmental data\n",
    "# For background points: create random environmental data across a wide range\n",
    "background_data = {\n",
    "    env_vars[0]: np.random.normal(15, 8, n_background),        # Temperature\n",
    "    env_vars[1]: np.random.normal(1000, 500, n_background),    # Precipitation\n",
    "    env_vars[2]: np.random.gamma(3, 300, n_background),        # Elevation\n",
    "    env_vars[3]: np.random.beta(2, 2, n_background) * 100,     # Forest cover\n",
    "    env_vars[4]: np.random.beta(2, 2, n_background) * 100      # Humidity\n",
    "}"
   ]
  },
  {
   "cell_type": "code",
   "execution_count": 4,
   "id": "d5dad5b8-4e31-4814-80a8-595c89a8c0aa",
   "metadata": {},
   "outputs": [],
   "source": [
    "\n",
    "# For presence points: create data biased toward preferred conditions\n",
    "# Slug-like species prefers cool, wet, forested areas with high humidity\n",
    "presence_data = {\n",
    "    env_vars[0]: np.random.normal(10, 3, n_presence),         # Cooler temperatures\n",
    "    env_vars[1]: np.random.normal(1500, 200, n_presence),     # Higher rainfall\n",
    "    env_vars[2]: np.random.gamma(2, 200, n_presence),         # Lower elevations\n",
    "    env_vars[3]: np.random.beta(5, 1, n_presence) * 100,      # High forest cover\n",
    "    env_vars[4]: np.random.beta(5, 1, n_presence) * 100       # High humidity\n",
    "}"
   ]
  },
  {
   "cell_type": "code",
   "execution_count": 5,
   "id": "4c8fb957-f296-4051-9166-6653cafc701c",
   "metadata": {},
   "outputs": [],
   "source": [
    "# Create DataFrames for presence and background\n",
    "presence_df = pd.DataFrame(presence_data)\n",
    "background_df = pd.DataFrame(background_data)"
   ]
  },
  {
   "cell_type": "code",
   "execution_count": 6,
   "id": "5ba07529-86aa-422c-b471-e1839030f275",
   "metadata": {},
   "outputs": [],
   "source": [
    "# Add class labels (1 for presence, 0 for background)\n",
    "presence_df['class'] = 1\n",
    "background_df['class'] = 0"
   ]
  },
  {
   "cell_type": "code",
   "execution_count": 7,
   "id": "237105d3-9328-49fd-83c2-c9f361534301",
   "metadata": {},
   "outputs": [],
   "source": [
    "# Combine into one dataset\n",
    "synthetic_df = pd.concat([presence_df, background_df], ignore_index=True)"
   ]
  },
  {
   "cell_type": "code",
   "execution_count": 8,
   "id": "d54569a7-2ea2-402b-85a8-a7366578f612",
   "metadata": {},
   "outputs": [],
   "source": [
    "# Shuffle the data\n",
    "synthetic_df = synthetic_df.sample(frac=1, random_state=42).reset_index(drop=True)"
   ]
  },
  {
   "cell_type": "code",
   "execution_count": 9,
   "id": "ace3350f-d515-4ecf-a12f-6449710fa78c",
   "metadata": {},
   "outputs": [],
   "source": [
    "synthetic_df.to_csv('synthetic_banana_slug_data.csv', index=False)"
   ]
  }
 ],
 "metadata": {
  "kernelspec": {
   "display_name": "Python 3 (ipykernel)",
   "language": "python",
   "name": "python3"
  },
  "language_info": {
   "codemirror_mode": {
    "name": "ipython",
    "version": 3
   },
   "file_extension": ".py",
   "mimetype": "text/x-python",
   "name": "python",
   "nbconvert_exporter": "python",
   "pygments_lexer": "ipython3",
   "version": "3.8.18"
  }
 },
 "nbformat": 4,
 "nbformat_minor": 5
}
